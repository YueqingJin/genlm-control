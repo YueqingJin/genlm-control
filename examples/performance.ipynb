{
 "cells": [
  {
   "cell_type": "markdown",
   "metadata": {},
   "source": [
    "# Performance optimizations\n",
    "\n",
    "This notebook describes performance optimizations that are available for the `Potential` class."
   ]
  },
  {
   "cell_type": "code",
   "execution_count": 1,
   "metadata": {},
   "outputs": [],
   "source": [
    "%load_ext autoreload\n",
    "%autoreload 2"
   ]
  },
  {
   "cell_type": "code",
   "execution_count": 2,
   "metadata": {},
   "outputs": [],
   "source": [
    "import time\n",
    "import asyncio\n",
    "from arsenal.timer import timeit"
   ]
  },
  {
   "cell_type": "markdown",
   "metadata": {},
   "source": [
    "## Autobatching concurrent requests"
   ]
  },
  {
   "cell_type": "code",
   "execution_count": 3,
   "metadata": {},
   "outputs": [
    {
     "name": "stdout",
     "output_type": "stream",
     "text": [
      "INFO 02-11 12:17:51 __init__.py:183] Automatically detected platform cuda.\n"
     ]
    }
   ],
   "source": [
    "from genlm_control.potential import Potential\n",
    "\n",
    "\n",
    "class TimedPotential(Potential):\n",
    "    async def complete(self, context):\n",
    "        time.sleep(0.5)\n",
    "        return len(context)\n",
    "\n",
    "    async def prefix(self, context):\n",
    "        time.sleep(0.5)\n",
    "        return len(context)\n",
    "\n",
    "    # Batched methods are much quicker than sequentially\n",
    "    # calling the instance methods.\n",
    "\n",
    "    async def batch_complete(self, contexts):\n",
    "        time.sleep(0.55)\n",
    "        return [len(context) for context in contexts]\n",
    "\n",
    "    async def batch_prefix(self, contexts):\n",
    "        time.sleep(0.55)\n",
    "        return [len(context) for context in contexts]\n",
    "\n",
    "    def __repr__(self):\n",
    "        return \"TimedPotential()\"\n",
    "\n",
    "\n",
    "potential = TimedPotential(list(range(256)))"
   ]
  },
  {
   "cell_type": "code",
   "execution_count": 4,
   "metadata": {},
   "outputs": [
    {
     "data": {
      "text/plain": [
       "AutoBatchedPotential(TimedPotential())"
      ]
     },
     "execution_count": 4,
     "metadata": {},
     "output_type": "execute_result"
    }
   ],
   "source": [
    "autobatched = potential.to_autobatched()\n",
    "autobatched"
   ]
  },
  {
   "cell_type": "code",
   "execution_count": 5,
   "metadata": {},
   "outputs": [
    {
     "name": "stderr",
     "output_type": "stream",
     "text": [
      "without autobatching (2.0009 sec)\n",
      "with autobatching (0.5504 sec)\n"
     ]
    }
   ],
   "source": [
    "sequences = [b\"hello\", b\"cats\", b\"foo\", b\"fy\"]\n",
    "\n",
    "# Concurrent requests to complete will be automatically batched\n",
    "# and processed by the batch_complete method.\n",
    "\n",
    "with timeit(\"without autobatching\"):\n",
    "    results = await asyncio.gather(*(potential.complete(seq) for seq in sequences))\n",
    "\n",
    "with timeit(\"with autobatching\"):\n",
    "    results_autobatched = await asyncio.gather(\n",
    "        *(autobatched.complete(seq) for seq in sequences)\n",
    "    )"
   ]
  },
  {
   "cell_type": "code",
   "execution_count": 6,
   "metadata": {},
   "outputs": [
    {
     "data": {
      "text/plain": [
       "([5, 4, 3, 2], [5, 4, 3, 2])"
      ]
     },
     "execution_count": 6,
     "metadata": {},
     "output_type": "execute_result"
    }
   ],
   "source": [
    "# Results are the same whether we use autobatching or not.\n",
    "results, results_autobatched"
   ]
  },
  {
   "cell_type": "markdown",
   "metadata": {},
   "source": [
    "## CPU Parallelization"
   ]
  },
  {
   "cell_type": "code",
   "execution_count": 7,
   "metadata": {},
   "outputs": [],
   "source": [
    "class TimedPotential(Potential):\n",
    "    async def complete(self, context):\n",
    "        time.sleep(1)\n",
    "        return len(context)\n",
    "\n",
    "    async def prefix(self, context):\n",
    "        time.sleep(1)\n",
    "        return len(context)\n",
    "\n",
    "    # These are the default implementations of batch_complete and batch_prefix\n",
    "    # which subclasses inherit. We repeat them here for clarity.\n",
    "    async def batch_complete(self, contexts):\n",
    "        return await asyncio.gather(*(self.complete(context) for context in contexts))\n",
    "\n",
    "    async def batch_prefix(self, contexts):\n",
    "        return await asyncio.gather(*(self.prefix(context) for context in contexts))\n",
    "\n",
    "    def spawn(self):\n",
    "        return TimedPotential(self.decode)\n",
    "\n",
    "\n",
    "potential = TimedPotential(list(range(256)))"
   ]
  },
  {
   "cell_type": "code",
   "execution_count": 9,
   "metadata": {},
   "outputs": [
    {
     "data": {
      "text/plain": [
       "MPPotential(self.num_workers=2)"
      ]
     },
     "execution_count": 9,
     "metadata": {},
     "output_type": "execute_result"
    }
   ],
   "source": [
    "mp_potential = potential.to_multiprocess(num_workers=2)\n",
    "mp_potential"
   ]
  },
  {
   "cell_type": "markdown",
   "metadata": {},
   "source": [
    "`MPPotential` is a parallel processing wrapper around another potential class. It allows running multiple instances of a potential in parallel across different CPU cores, which can significantly speed up processing."
   ]
  },
  {
   "cell_type": "code",
   "execution_count": 10,
   "metadata": {},
   "outputs": [
    {
     "name": "stderr",
     "output_type": "stream",
     "text": [
      "without multiprocessing (4.0010 sec)\n",
      "with multiprocessing (2.0022 sec)\n"
     ]
    }
   ],
   "source": [
    "with timeit(\"without multiprocessing\"):\n",
    "    results = await potential.batch_complete(sequences)\n",
    "\n",
    "with timeit(\"with multiprocessing\"):\n",
    "    results_mp = await mp_potential.batch_complete(sequences)"
   ]
  },
  {
   "cell_type": "code",
   "execution_count": 11,
   "metadata": {},
   "outputs": [
    {
     "data": {
      "text/plain": [
       "([5, 4, 3, 2], array([5, 4, 3, 2]))"
      ]
     },
     "execution_count": 11,
     "metadata": {},
     "output_type": "execute_result"
    }
   ],
   "source": [
    "results, results_mp"
   ]
  },
  {
   "cell_type": "code",
   "execution_count": 12,
   "metadata": {},
   "outputs": [
    {
     "name": "stderr",
     "output_type": "stream",
     "text": [
      "without multiprocessing (4.0010 sec)\n",
      "with multiprocessing (2.0017 sec)\n"
     ]
    }
   ],
   "source": [
    "with timeit(\"without multiprocessing\"):\n",
    "    results = await asyncio.gather(*(potential.complete(seq) for seq in sequences))\n",
    "\n",
    "with timeit(\"with multiprocessing\"):\n",
    "    results_mp = await asyncio.gather(\n",
    "        *(mp_potential.complete(seq) for seq in sequences)\n",
    "    )"
   ]
  },
  {
   "cell_type": "code",
   "execution_count": 13,
   "metadata": {},
   "outputs": [
    {
     "data": {
      "text/plain": [
       "([5, 4, 3, 2], [5, 4, 3, 2])"
      ]
     },
     "execution_count": 13,
     "metadata": {},
     "output_type": "execute_result"
    }
   ],
   "source": [
    "results, results_mp"
   ]
  }
 ],
 "metadata": {
  "kernelspec": {
   "display_name": "Python 3",
   "language": "python",
   "name": "python3"
  },
  "language_info": {
   "codemirror_mode": {
    "name": "ipython",
    "version": 3
   },
   "file_extension": ".py",
   "mimetype": "text/x-python",
   "name": "python",
   "nbconvert_exporter": "python",
   "pygments_lexer": "ipython3",
   "version": "3.11.11"
  }
 },
 "nbformat": 4,
 "nbformat_minor": 2
}
